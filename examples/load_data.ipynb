{
 "cells": [
  {
   "cell_type": "code",
   "execution_count": 18,
   "metadata": {},
   "outputs": [
    {
     "name": "stdout",
     "output_type": "stream",
     "text": [
      "{'mnemonic': 'DEPT', 'unit': 'F', 'value': '', 'description': '1  DEPTH'}\n",
      "{'mnemonic': 'SP', 'unit': 'MV', 'value': '', 'description': '2'}\n",
      "{'mnemonic': 'ILD', 'unit': 'OHMM', 'value': '', 'description': '3'}\n",
      "{'mnemonic': 'ILM', 'unit': 'OHMM', 'value': '', 'description': '4'}\n",
      "{'mnemonic': 'LL8', 'unit': 'OHMM', 'value': '', 'description': '5'}\n",
      "{'mnemonic': 'GR', 'unit': 'GAPI', 'value': '', 'description': '6'}\n",
      "{'mnemonic': 'CALI', 'unit': 'IN', 'value': '', 'description': '7'}\n",
      "{'mnemonic': 'DRHO', 'unit': 'G/C3', 'value': '', 'description': '8'}\n",
      "{'mnemonic': 'RHOB', 'unit': 'G/C3', 'value': '', 'description': '9'}\n",
      "{'mnemonic': 'NPHI', 'unit': '%', 'value': '', 'description': '10'}\n",
      "{'mnemonic': 'DT', 'unit': 'US/F', 'value': '', 'description': '11'}\n"
     ]
    }
   ],
   "source": [
    "import las2 # leitor de arquivos .las\n",
    "import numpy as np # biblioteca numérica do python\n",
    "import matplotlib.pyplot as plt # biblioteca gráfica do python\n",
    "\n",
    "lasfile = las2.read('../datasets/DP1.las')\n",
    "\n",
    "for i in lasfile['curve']:\n",
    "    print(i)"
   ]
  },
  {
   "cell_type": "code",
   "execution_count": 22,
   "metadata": {},
   "outputs": [
    {
     "data": {
      "image/png": "[encoded data removed]",
      "text/plain": [
       "<Figure size 432x288 with 1 Axes>"
      ]
     },
     "metadata": {
      "needs_background": "light"
     },
     "output_type": "display_data"
    }
   ],
   "source": [
    "GR = lasfile['data'][5]\n",
    "DEPTH = lasfile['data'][0]\n",
    "\n",
    "plt.plot(lasfile['data'][0],lasfile['data'][5])\n",
    "plt.grid()\n",
    "plt.show()\n",
    "\n"
   ]
  },
  {
   "cell_type": "code",
   "execution_count": null,
   "metadata": {},
   "outputs": [],
   "source": []
  }
 ],
 "metadata": {
  "kernelspec": {
   "display_name": "Python 3",
   "language": "python",
   "name": "python3"
  },
  "language_info": {
   "codemirror_mode": {
    "name": "ipython",
    "version": 3
   },
   "file_extension": ".py",
   "mimetype": "text/x-python",
   "name": "python",
   "nbconvert_exporter": "python",
   "pygments_lexer": "ipython3",
   "version": "3.8.5"
  }
 },
 "nbformat": 4,
 "nbformat_minor": 4
}
